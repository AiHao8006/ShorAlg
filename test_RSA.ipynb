{
 "cells": [
  {
   "cell_type": "code",
   "execution_count": 18,
   "id": "c34349a3",
   "metadata": {},
   "outputs": [],
   "source": [
    "import numpy as np\n",
    "from FindFactor import FindFactor"
   ]
  },
  {
   "cell_type": "code",
   "execution_count": 17,
   "id": "2ddc9113",
   "metadata": {},
   "outputs": [],
   "source": [
    "def inv_N(i,N):\n",
    "    # 大衍求一术（辗转相除法）\n",
    "    r_0,r_1 = N,i\n",
    "    c_0,c_1 = 1,0\n",
    "    d_0,d_1 = 0,1\n",
    "    n = 0;\n",
    "    while(1):\n",
    "        n = n + 1;\n",
    "        q_2 = r_0//r_1\n",
    "        r_2= r_0%r_1\n",
    "        if(r_2==0):\n",
    "            break\n",
    "        c_2 = q_2*c_1+c_0\n",
    "        d_2 = q_2*d_1+d_0\n",
    "        r_0,c_0,d_0 = r_1,c_1,d_1\n",
    "        r_1,c_1,d_1 = r_2,c_2,d_2\n",
    "        \n",
    "    q = (-1)**(n-1)*d_1\n",
    "    if(q<0): q = q + N \n",
    "    return q\n",
    "\n",
    "def getRSA(p1,p2):\n",
    "    # 利用质数p1,p2产生RSA 公钥和私钥\n",
    "    N = p1*p2\n",
    "    Euler_N = (p1-1)*(p2-1)\n",
    "    while(1):\n",
    "        e = np.random.randint(2,Euler_N-1)\n",
    "        if(np.gcd(e,Euler_N)==1):\n",
    "            break\n",
    "    d = inv_N(e,Euler_N)\n",
    "    return (N,e),(N,d)\n",
    "\n",
    "def Send(p1,p2):\n",
    "    # 随机产生密文并发送\n",
    "    [a,b] = getRSA(3,19)\n",
    "    N ,e,d = a[0],a[1],b[1]\n",
    "    M = np.random.randint(2,N-1)\n",
    "    print(\"明文是:\",M,\";密钥是\",d)\n",
    "    S = M**e%N\n",
    "    return N,e,S\n",
    "\n",
    "def Decode(N,e,S):\n",
    "    # 利用公钥和密文获得私钥和明文\n",
    "    Found = FindFactor(N)\n",
    "    p1 = Found.find_factors()\n",
    "    p1 = int(p1[0])\n",
    "    p2 = int(N/p1)\n",
    "    d = inv_N(e,(p1-1)*(p2-1))\n",
    "    print(\"密钥是\",d)\n",
    "    M2 = S**d%N\n",
    "    print(\"明文是\",M2)\n",
    "    return M2"
   ]
  },
  {
   "cell_type": "code",
   "execution_count": 40,
   "id": "1e3d51b3",
   "metadata": {},
   "outputs": [
    {
     "name": "stdout",
     "output_type": "stream",
     "text": [
      "密文是: 29 ;密钥是 11\n",
      "57 23 41\n",
      "Quantum ShorAlg: randomly generating a multiplier 47, trying to find its order (mod 57), but failed;\n",
      "Quantum ShorAlg: randomly generating a multiplier 5, trying to find its order (mod 57), but failed;\n",
      "randomly generating 38, classically found 57's factor 19;\n",
      "finding factors, 57 = 3 x 19\n",
      "The factors are: 57 = 3 x 19\n",
      "密钥是 11\n",
      "密文是 29\n"
     ]
    }
   ],
   "source": [
    "#主函数\n",
    "[N,e,S] = Send(3,19) #3*19=57\n",
    "print(N,e,S)\n",
    "M = Decode(N,e,S)"
   ]
  },
  {
   "cell_type": "code",
   "execution_count": 42,
   "id": "a67fba5b",
   "metadata": {},
   "outputs": [
    {
     "name": "stdout",
     "output_type": "stream",
     "text": [
      "密文是: 40 ;密钥是 5\n",
      "57 29 34\n",
      "Quantum ShorAlg: randomly generating a multiplier 49, found its order 3 (mod 57), it's odd, so failed;\n",
      "Quantum ShorAlg: randomly generating a multiplier 56, found its order 2 (mod 57), 56^1=-1(mod 57), so failed;\n",
      "Quantum ShorAlg: randomly generating a multiplier 56, found its order 2 (mod 57), 56^1=-1(mod 57), so failed;\n",
      "Quantum ShorAlg: randomly generating a multiplier 53, trying to find its order (mod 57), but failed;\n",
      "randomly generating 54, classically found 57's factor 3;\n",
      "finding factors, 57 = 19 x 3\n",
      "The factors are: 57 = 19 x 3\n",
      "密钥是 5\n",
      "密文是 40\n"
     ]
    }
   ],
   "source": [
    "[N,e,S] = Send(7,17) #7*17=119\n",
    "print(\"公钥N和e即密文为：\",N,e,S)\n",
    "M = Decode(N,e,S)"
   ]
  },
  {
   "cell_type": "code",
   "execution_count": 41,
   "id": "cbb230cb",
   "metadata": {},
   "outputs": [
    {
     "name": "stdout",
     "output_type": "stream",
     "text": [
      "Quantum ShorAlg: randomly generating a multiplier 3, trying to find its order (mod 119), but failed;\n",
      "Quantum ShorAlg: randomly generating a multiplier 72, trying to find its order (mod 119), but failed;\n",
      "Quantum ShorAlg: randomly generating a multiplier 40, trying to find its order (mod 119), but failed;\n",
      "Quantum ShorAlg: randomly generating a multiplier 12, trying to find its order (mod 119), but failed;\n",
      "Quantum ShorAlg: randomly generating a multiplier 118, found its order 2 (mod 119), 118^1=-1(mod 119), so failed;\n",
      "Quantum ShorAlg: randomly generating a multiplier 95, trying to find its order (mod 119), but failed;\n",
      "Quantum ShorAlg: randomly generating a multiplier 64, found its order 4 (mod 119), leading to a factor 7;\n",
      "finding factors, 119 = 17 x 7\n",
      "The factors are: 119 = 17 x 7\n"
     ]
    }
   ],
   "source": [
    "#测试部分\n",
    "Found = FindFactor(119)\n",
    "p1 = Found.find_factors()"
   ]
  },
  {
   "cell_type": "code",
   "execution_count": 3,
   "id": "1bb75811",
   "metadata": {},
   "outputs": [
    {
     "name": "stdout",
     "output_type": "stream",
     "text": [
      "明文是: 29 ;密钥是 29\n",
      "公钥N和e以及密文为： 57 5 41\n",
      "Quantum ShorAlg: randomly generating a multiplier 16, found its order 9 (mod 57), it's odd, so failed;\n",
      "randomly generating 6, classically found 57's factor 3;\n",
      "finding factors, 57 = 19 x 3\n",
      "The factors are: 57 = 19 x 3\n",
      "密钥是 29\n",
      "明文是 29\n"
     ]
    }
   ],
   "source": [
    "%run test_RSA.py"
   ]
  },
  {
   "cell_type": "code",
   "execution_count": 2,
   "id": "cb871119",
   "metadata": {},
   "outputs": [],
   "source": [
    "from shor3 import shor_alg\n",
    "from ClassicalFuncs import ClassicalFuncs as CF\n",
    "from CompoundGates import CompoundGates\n",
    "import random\n"
   ]
  },
  {
   "cell_type": "code",
   "execution_count": 19,
   "id": "40f2ca99",
   "metadata": {},
   "outputs": [
    {
     "name": "stdout",
     "output_type": "stream",
     "text": [
      "明文是: 51 ;密钥是 23\n",
      "公钥N和e即密文为： 57 11 21\n"
     ]
    }
   ],
   "source": [
    "[N,e,S] = Send(7,17) #7*17=119\n",
    "print(\"公钥N和e即密文为：\",N,e,S)\n"
   ]
  },
  {
   "cell_type": "code",
   "execution_count": 39,
   "id": "358aa8b1",
   "metadata": {},
   "outputs": [
    {
     "name": "stdout",
     "output_type": "stream",
     "text": [
      "6 1\n"
     ]
    }
   ],
   "source": [
    "s_r = shor_alg(e, N, L=CompoundGates.find_n(N)*2)       # 一般取精度L为2n，但可以讨论效率取舍问题\n",
    "cont_frac = CF.continued_frac(s_r)\n",
    "r_might = CF.solve_con_frac(cont_frac, return_denominator=True)\n",
    "r = None\n",
    "for k in r_might:\n",
    "    if (a ** k) % N == 1:\n",
    "        r = int(k)\n",
    "        break\n",
    "print(r,e**r%N)"
   ]
  },
  {
   "cell_type": "code",
   "execution_count": 24,
   "id": "602e198e",
   "metadata": {},
   "outputs": [
    {
     "name": "stdout",
     "output_type": "stream",
     "text": [
      "6\n"
     ]
    }
   ],
   "source": [
    "s_r = shor_alg(7, N, L=CompoundGates.find_n(N)*2)       # 一般取精度L为2n，但可以讨论效率取舍问题\n",
    "cont_frac = CF.continued_frac(s_r)\n",
    "r_might = CF.solve_con_frac(cont_frac, return_denominator=True)\n",
    "r = None\n",
    "for k in r_might:\n",
    "    if (a ** k) % N == 1:\n",
    "        r = k\n",
    "        break\n",
    "print(r)"
   ]
  },
  {
   "cell_type": "code",
   "execution_count": 15,
   "id": "633b4dda",
   "metadata": {},
   "outputs": [
    {
     "name": "stdout",
     "output_type": "stream",
     "text": [
      "4\n"
     ]
    }
   ],
   "source": [
    "N = 15;\n",
    "a = 7;\n",
    "s_r = shor_alg(a, N, L=CompoundGates.find_n(N)*2)       # 一般取精度L为2n，但可以讨论效率取舍问题\n",
    "cont_frac = CF.continued_frac(s_r)\n",
    "r_might = CF.solve_con_frac(cont_frac, return_denominator=True)\n",
    "r = None\n",
    "for k in r_might:\n",
    "    if (a ** k) % N == 1:\n",
    "        r = k\n",
    "        break\n",
    "print(r)"
   ]
  },
  {
   "cell_type": "raw",
   "id": "d4dea55f",
   "metadata": {},
   "source": [
    "r"
   ]
  },
  {
   "cell_type": "code",
   "execution_count": 14,
   "id": "9b7514b3",
   "metadata": {},
   "outputs": [
    {
     "data": {
      "text/plain": [
       "8"
      ]
     },
     "execution_count": 14,
     "metadata": {},
     "output_type": "execute_result"
    }
   ],
   "source": [
    "CompoundGates.find_n(N)*2"
   ]
  },
  {
   "cell_type": "code",
   "execution_count": 37,
   "id": "84e6ec29",
   "metadata": {},
   "outputs": [
    {
     "data": {
      "text/plain": [
       "18"
      ]
     },
     "execution_count": 37,
     "metadata": {},
     "output_type": "execute_result"
    }
   ],
   "source": [
    "21**9%57"
   ]
  },
  {
   "cell_type": "code",
   "execution_count": null,
   "id": "9b476305",
   "metadata": {},
   "outputs": [],
   "source": []
  }
 ],
 "metadata": {
  "kernelspec": {
   "display_name": "py3_8",
   "language": "python",
   "name": "py3_8"
  },
  "language_info": {
   "codemirror_mode": {
    "name": "ipython",
    "version": 3
   },
   "file_extension": ".py",
   "mimetype": "text/x-python",
   "name": "python",
   "nbconvert_exporter": "python",
   "pygments_lexer": "ipython3",
   "version": "3.8.12"
  },
  "varInspector": {
   "cols": {
    "lenName": 16,
    "lenType": 16,
    "lenVar": 40
   },
   "kernels_config": {
    "python": {
     "delete_cmd_postfix": "",
     "delete_cmd_prefix": "del ",
     "library": "var_list.py",
     "varRefreshCmd": "print(var_dic_list())"
    },
    "r": {
     "delete_cmd_postfix": ") ",
     "delete_cmd_prefix": "rm(",
     "library": "var_list.r",
     "varRefreshCmd": "cat(var_dic_list()) "
    }
   },
   "types_to_exclude": [
    "module",
    "function",
    "builtin_function_or_method",
    "instance",
    "_Feature"
   ],
   "window_display": false
  }
 },
 "nbformat": 4,
 "nbformat_minor": 5
}
